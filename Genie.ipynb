{
 "cells": [
  {
   "cell_type": "code",
   "execution_count": null,
   "metadata": {},
   "outputs": [],
   "source": [
    "# Genie Hello World!\n",
    "# As simple as Hello\n",
    "using Pkg\n",
    "Pkg.add(\"Genie\")\n",
    "\n",
    "using Genie\n",
    "route(\"/hello\") do\n",
    "    \"Welcome to Genie!\"\n",
    "end\n",
    "\n",
    "# Powerful high-performance HTML view templates\n",
    "using Genie.Renderer.Html\n",
    "route(\"/html\") do\n",
    "    h1(\"Welcome to Genie!\") |> html\n",
    "end\n",
    "\n",
    "# JSON rendering built in\n",
    "using Genie.Renderer.Json\n",
    "route(\"/json\") do\n",
    "    (:greeting => \"Welcome to Genie!\") |> json\n",
    "end\n",
    "\n",
    "# Start the app!\n",
    "up(8888)"
   ]
  }
 ],
 "metadata": {
  "kernelspec": {
   "display_name": "Python 3.10.6 64-bit",
   "language": "python",
   "name": "python3"
  },
  "language_info": {
   "name": "python",
   "version": "3.10.6"
  },
  "orig_nbformat": 4,
  "vscode": {
   "interpreter": {
    "hash": "916dbcbb3f70747c44a77c7bcd40155683ae19c65e1c03b4aa3499c5328201f1"
   }
  }
 },
 "nbformat": 4,
 "nbformat_minor": 2
}
