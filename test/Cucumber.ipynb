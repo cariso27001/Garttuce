{
 "cells": [
  {
   "cell_type": "code",
   "execution_count": null,
   "metadata": {},
   "outputs": [],
   "source": [
    "using Pkg\n",
    "Pkg.activate(\"..\")\n",
    "Pkg.instantiate()\n",
    "Pkg.update()"
   ]
  },
  {
   "cell_type": "code",
   "execution_count": null,
   "metadata": {},
   "outputs": [],
   "source": [
    "using Cropbox\n",
    "using Test\n",
    "using Plots\n",
    "using TimeZones\n",
    "using DataFramesMeta\n",
    "using CSV\n",
    "Cropbox.Interact.WebIO.setup(:ijulia)"
   ]
  },
  {
   "cell_type": "code",
   "execution_count": null,
   "metadata": {},
   "outputs": [],
   "source": [
    "include(\"../src/Garlic.jl\")\n",
    "\n",
    "import Dates"
   ]
  },
  {
   "cell_type": "code",
   "execution_count": null,
   "metadata": {},
   "outputs": [],
   "source": [
    "tz = tz\"America/Los_Angeles\"\n",
    "\n",
    "Cucumber = @config (\n",
    "# # CV PHYL ILN GLN LL LER SG SD LTAR LTARa LIR Topt Tceil critPPD\n",
    "# KM1 134 4 10 65.0 4.70 1.84 122 0 0.4421 0.1003 22.28 34.23 12\n",
    "    :Phenology => (\n",
    "        # optimal_temperature = 22.28, # Topt\n",
    "        optimal_temperature = 25, # Topt\n",
    "        # ceiling_temperature = 34.23, # Tceil\n",
    "        ceiling_temperature = 30, # Tceil\n",
    "        critical_photoperiod = 24, # critPPD\n",
    "        # critical_photoperiod = 12, # critPPD\n",
    "        # initial_leaves_at_harvest = 5, # ILN\n",
    "        # maximum_leaf_initiation_rate = 0.8, # LIR\n",
    "        maximum_leaf_initiation_rate = 1.16939,\n",
    "        # maximum_emergence_rate = 0.2,\n",
    "        maximum_emergence_rate = 0.12,\n",
    "        # maximum_leaf_initiation_rate = 0.1003, # LIR\n",
    "        # storage_days = 100, # SD\n",
    "        # storage_temperature = 5,\n",
    "        # maximum_phyllochron_asymptote = 0.4421, # LTARa\n",
    "        maximum_phyllochron_asymptote = 1.45901,\n",
    "        # leaves_generic = 10, # GLN\n",
    "        leaves_generic = 50, # GLN\n",
    "        # storage_days = 122, # SD\n",
    "        planting_date = ZonedDateTime(2021, 2, 1, tz\"Asia/Seoul\"), # Y1 sow\n",
    "        emergence_date = ZonedDateTime(2021, 2, 1, tz\"Asia/Seoul\"), # Y1 emg\n",
    "        # scape_removal_date = nothing, # Y2 SR\n",
    "        detach_to_maintain_max_leaf_number = 19,\n",
    "        detach_to_maintain_min_leaf_number = 15,\n",
    "    ),\n",
    "    :Leaf => (\n",
    "        maximum_elongation_rate = 4.70, # LER\n",
    "        minimum_length_of_longest_leaf = 25.0, # LL\n",
    "        # stay_green = 1.84, # SG\n",
    "        stay_green = 20,\n",
    "        length_to_width_ratio = 1,\n",
    "    ),\n",
    "    :Carbon => (\n",
    "# # Rm Yg\n",
    "# 0.012 0.8\n",
    "        maintenance_respiration_coefficient = 0.012, # Rm\n",
    "        synthesis_efficiency = 0.8, # Yg\n",
    "        partitioning_table = [\n",
    "        # # root leaf sheath scape bulb\n",
    "        #   0.00 0.00   0.00  0.00 0.00 ; # seed garlic before germination\n",
    "        #   0.35 0.30   0.25  0.00 0.10 ; # vegetative stage between germination and scape initiation\n",
    "        #   0.15 0.15   0.10  0.25 0.35 ; # period between scape initiation and scape appearance\n",
    "        #   0.05 0.10   0.00  0.35 0.50 ; # period after scape appearance before removal (scape stays intact)\n",
    "        #   0.05 0.00   0.00  0.00 0.95 ; # period after scape removal (scape appeared and subsequently removed)\n",
    "        #   0.00 0.00   0.00  0.00 0.00 ; # dead\n",
    "        # ],\n",
    "        # root leaf sheath scape bulb\n",
    "          0.00 0.00   0.00  0.00 0.00 ; # seed garlic before germination\n",
    "          0.60 0.40   0.00  0.00 0.00 ; # vegetative stage between germination and scape initiation\n",
    "          0.60 0.40   0.00  0.00 0.00 ; # period between scape initiation and scape appearance\n",
    "          0.60 0.40   0.00  0.00 0.00 ; # period after scape appearance before removal (scape stays intact)\n",
    "          0.60 0.40   0.00  0.00 0.00 ; # period after scape removal (scape appeared and subsequently removed)\n",
    "          0.00 0.00   0.00  0.00 0.00 ; # dead\n",
    "        ],\n",
    "    ),\n",
    "    :Meta => (cultivar = :Cucumber,\n",
    "        year = 2021,),\n",
    "    :Weather => (\n",
    "        # CO2 = 390, # CO2\n",
    "        CO2 = 500, # CO2\n",
    "        store = Garlic.loadwea(\"$(@__DIR__)/../data/Wea2nd.wea\", tz\"Asia/Seoul\"),\n",
    "    ),\n",
    "    :Plant => (initial_planting_density = 55,),\n",
    "    :Calendar => (\n",
    "        init = ZonedDateTime(2021, 2, 1, tz\"Asia/Seoul\"), # Y1 bgn\n",
    "        last = ZonedDateTime(2021, 8, 29, tz\"Asia/Seoul\"), #Y2 end\n",
    "    ),\n",
    ")\n",
    "\n",
    "P1 = @config :Meta => (; planting_group = 1)\n",
    "P2 = @config :Meta => (; planting_group = 2)"
   ]
  },
  {
   "cell_type": "code",
   "execution_count": null,
   "metadata": {},
   "outputs": [],
   "source": [
    "obs = CSV.read(\"$(@__DIR__)/../data/Phenology.csv\", DataFrame)\n",
    "\n",
    "f(s) = s.DAP' in obs.DAP && Dates.hour(s.calendar.time') == 12\n",
    "#r = simulate(Garlic.Model;\n",
    "# calibrate(Garlic.Model, obs;\n",
    "#     config=Cucumber,\n",
    "#     stop=\"calendar.count\",\n",
    "#     index=:DAP,\n",
    "#     target=:leaf_count => :leaves_real,\n",
    "#     parameters= :Phenology => (;\n",
    "#         LTARa_max = (0.2, 1.5),\n",
    "#         maximum_leaf_initiation_rate = (0.2, 1.5),\n",
    "#     ),\n",
    "#     snap=f,\n",
    "#     optim=(:MaxSteps => 10,),\n",
    "# )"
   ]
  },
  {
   "cell_type": "code",
   "execution_count": null,
   "metadata": {},
   "outputs": [],
   "source": [
    "obs = CSV.read(\"$(@__DIR__)/../data/Phenology.csv\", DataFrame) |> unitfy\n",
    "\n",
    "r = simulate(Garlic.Model;\n",
    "    config=Cucumber,\n",
    "    stop=\"calendar.count\",\n",
    "    snap=s -> Dates.hour(s.calendar.time') == 12,\n",
    ")\n",
    "@test r.leaves_initiated[end] > 0\n",
    "\n",
    "visualize(r, :DAP, [:leaves_appeared, :leaves_mature, :leaves_dropped, :leaves_detached, :leaves_real], kind=:line) |> display # Fig. 3.D\n",
    "visualize(r, :DAP, :LAI) |> display # Fig. 4.D\n",
    "visualize(r, :DAP, [:leaf_mass, :total_mass]) |> display\n",
    "visualize(r, :DAP, [:A_net], kind=:line) |> display\n",
    "p = visualize(r, :DAP, [:leaves_real], kind=:line)"
   ]
  },
  {
   "cell_type": "code",
   "execution_count": null,
   "metadata": {},
   "outputs": [],
   "source": [
    "manipulate(Garlic.Model, :DAP, [:leaves_appeared, :leaves_mature, :leaves_dropped, :leaves_detached, :leaves_real];\n",
    "    config = Cucumber,\n",
    "    parameters = :Phenology => (;\n",
    "        optimal_temperature = 10:40,\n",
    "        \n",
    "    ),\n",
    "    stop = \"calendar.count\",\n",
    "    kind = :line,\n",
    ")"
   ]
  },
  {
   "cell_type": "code",
   "execution_count": null,
   "metadata": {},
   "outputs": [],
   "source": [
    "evaluate(Garlic.Model, obs; \n",
    "    config = Cucumber,\n",
    "    index = :DAP => :DAP,\n",
    "    stop=\"calendar.count\",\n",
    "    snap=s -> Dates.hour(s.calendar.time') == 12,\n",
    "    target = :leaf_count => :leaves_real, metric = :rmse)"
   ]
  }
 ],
 "metadata": {
  "kernelspec": {
   "display_name": "Julia 1.6.3",
   "language": "julia",
   "name": "julia-1.6"
  },
  "language_info": {
   "file_extension": ".jl",
   "mimetype": "application/julia",
   "name": "julia",
   "version": "1.6.3"
  }
 },
 "nbformat": 4,
 "nbformat_minor": 4
}
